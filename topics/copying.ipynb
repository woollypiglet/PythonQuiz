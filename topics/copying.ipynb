{
 "cells": [
  {
   "cell_type": "markdown",
   "metadata": {},
   "source": [
    "# Copying things in Python"
   ]
  },
  {
   "cell_type": "code",
   "execution_count": 3,
   "metadata": {},
   "outputs": [
    {
     "name": "stdout",
     "output_type": "stream",
     "text": [
      "True\n",
      "a=1.23, b=2.3\n",
      "False\n"
     ]
    }
   ],
   "source": [
    "def A():\n",
    "    a = 1.23\n",
    "    b = a\n",
    "    print(b is a)\n",
    "    b = 2.3\n",
    "    print(f\"a={a}, b={b}\")\n",
    "    print(b is a)\n",
    "\n",
    "A() "
   ]
  },
  {
   "cell_type": "code",
   "execution_count": 7,
   "metadata": {},
   "outputs": [
    {
     "name": "stdout",
     "output_type": "stream",
     "text": [
      "False\n",
      "[1.2, 2.3, 3.5]\n",
      "[1.23, 2.34, 3.45]\n"
     ]
    }
   ],
   "source": [
    "def B():\n",
    "    X = [1.23, 2.34, 3.45]\n",
    "    Y = X[:]\n",
    "    print(X is Y)\n",
    "    X = [round(x,1) for x in X]\n",
    "    print(X)\n",
    "    print(Y)\n",
    "\n",
    "B()"
   ]
  },
  {
   "cell_type": "code",
   "execution_count": 17,
   "metadata": {},
   "outputs": [
    {
     "name": "stdout",
     "output_type": "stream",
     "text": [
      "AA:\n",
      "[[0, 1, 2, 3], [0.0, 3.2, 6.4, 9.600000000000001]]\n",
      "BB as simple copy of AA:\n",
      "[[0, 1, 2, 3], [0.0, 3.2, 6.4, 9.600000000000001]]\n",
      "change to BB seen in BB\n",
      "[[5.6, 1, 2, 3], [0.0, 3.2, 6.4, 9.600000000000001]]\n",
      "also changed AA - oh dear\n",
      "[[5.6, 1, 2, 3], [0.0, 3.2, 6.4, 9.600000000000001]]\n",
      "\n",
      "try again ...\n",
      "\n",
      "AA:\n",
      "[[0, 1, 2, 3], [0.0, 3.2, 6.4, 9.600000000000001]]\n",
      "change to CC seen in CC\n",
      "[[3.124, 1, 2, 3], [0.0, 3.2, 6.4, 9.600000000000001]]\n",
      "and AA? - no, hooray\n",
      "[[0, 1, 2, 3], [0.0, 3.2, 6.4, 9.600000000000001]]\n"
     ]
    }
   ],
   "source": [
    "def C():\n",
    "    AA = [\n",
    "        [x for x in range(4)],\n",
    "        [x*3.2 for x in range(4)]\n",
    "    ]\n",
    "    print(f\"AA:\\n{AA}\")\n",
    "    BB = AA[:]  #  THIS DOES NOT WORK FOR MULTI DIM ARRAYS\n",
    "    print(f\"BB as simple copy of AA:\\n{BB}\")\n",
    "    BB[0][0] = 5.6\n",
    "    print(f\"change to BB seen in BB\\n{BB}\")\n",
    "    print(f\"also changed AA - oh dear\\n{AA}\")\n",
    "    print(\"\\ntry again ...\\n\")\n",
    "    AA[0][0] = 0\n",
    "    CC = [row[:] for row in AA]\n",
    "    CC[0][0] = 3.124\n",
    "    print(f\"AA:\\n{AA}\")\n",
    "    print(f\"change to CC seen in CC\\n{CC}\")\n",
    "    print(f\"and AA? - no, hooray\\n{AA}\")\n",
    "\n",
    "\n",
    "C()"
   ]
  },
  {
   "cell_type": "code",
   "execution_count": null,
   "metadata": {},
   "outputs": [],
   "source": []
  }
 ],
 "metadata": {
  "kernelspec": {
   "display_name": "Python 3.10.4 ('pythonquiz')",
   "language": "python",
   "name": "python3"
  },
  "language_info": {
   "codemirror_mode": {
    "name": "ipython",
    "version": 3
   },
   "file_extension": ".py",
   "mimetype": "text/x-python",
   "name": "python",
   "nbconvert_exporter": "python",
   "pygments_lexer": "ipython3",
   "version": "3.10.4"
  },
  "orig_nbformat": 4,
  "vscode": {
   "interpreter": {
    "hash": "61b2738834c5d57de2b2e4e6f1e3fbfde90ba09dceeea7596bcecc714c6f77ae"
   }
  }
 },
 "nbformat": 4,
 "nbformat_minor": 2
}
