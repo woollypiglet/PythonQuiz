{
 "cells": [
  {
   "cell_type": "markdown",
   "metadata": {},
   "source": [
    "# Decorators\n",
    "\n",
    "Function decorators wrap a function definition\n",
    "\n",
    "## Quiz Questions:\n",
    "\n",
    "- write a decorator to print out the positional and keyword arguments when a wrapped function is called\n",
    "- note uses of *args and **kwargs vs args and kwargs and explain\n",
    "- explain what a closure is and relate to your answer if applicable.\n",
    "\n",
    "\n",
    "## Tips and Suggestions below - no peeking\n"
   ]
  },
  {
   "cell_type": "markdown",
   "metadata": {},
   "source": [
    "![image](../img/down_arrow.png)"
   ]
  },
  {
   "cell_type": "markdown",
   "metadata": {},
   "source": [
    "## Have you really tried to do this yourself?"
   ]
  },
  {
   "cell_type": "markdown",
   "metadata": {},
   "source": [
    "#### A decorator that prints the args & kwargs"
   ]
  },
  {
   "cell_type": "code",
   "execution_count": 3,
   "metadata": {},
   "outputs": [],
   "source": [
    "# here's a decorator\n",
    "def print_args(func, *args, **kwargs):\n",
    "    def wrapper(*args, **kwargs):\n",
    "        print(args, kwargs)     # do some decoratingb\n",
    "        func(*args, **kwargs)   # finish off by calling the decorated function - see below\n",
    "    return wrapper              # return a callable that calls the decorated function - that's what a decorator is"
   ]
  },
  {
   "cell_type": "markdown",
   "metadata": {},
   "source": [
    "#### Wrap a function with the decorator"
   ]
  },
  {
   "cell_type": "code",
   "execution_count": 36,
   "metadata": {},
   "outputs": [],
   "source": [
    "# fromhttps://docs.python.org/3/reference/compound_stmts.html#function-definitions:\n",
    "# \"decorator expressions are evaluated when the function is defined, in the scope that contains the function definition\"\n",
    "# so that would be the scope below\n",
    "# this is scope with the values that closed over by the closure print_args(...)\n",
    "\n",
    "# using inspect to get function name, see: https://docs.python.org/3/library/inspect.html#the-interpreter-stack\n",
    "import inspect\n",
    "\n",
    "@print_args\n",
    "def do_something(*args, **kwargs):\n",
    "    print(f\"did something in {inspect.stack()[0][3]}\") \n"
   ]
  },
  {
   "cell_type": "markdown",
   "metadata": {},
   "source": [
    "#### Test it"
   ]
  },
  {
   "cell_type": "code",
   "execution_count": 37,
   "metadata": {},
   "outputs": [
    {
     "name": "stdout",
     "output_type": "stream",
     "text": [
      "(1, 2, 'three') {'ping': 'pong'}\n",
      "did something in do_something\n"
     ]
    }
   ],
   "source": [
    "do_something(*[1,2,\"three\"], **{\"ping\":\"pong\"})\n",
    "# do_something()"
   ]
  },
  {
   "cell_type": "code",
   "execution_count": null,
   "metadata": {},
   "outputs": [],
   "source": []
  }
 ],
 "metadata": {
  "kernelspec": {
   "display_name": "Python 3.10.4 ('pythonquiz')",
   "language": "python",
   "name": "python3"
  },
  "language_info": {
   "codemirror_mode": {
    "name": "ipython",
    "version": 3
   },
   "file_extension": ".py",
   "mimetype": "text/x-python",
   "name": "python",
   "nbconvert_exporter": "python",
   "pygments_lexer": "ipython3",
   "version": "3.10.4"
  },
  "orig_nbformat": 4,
  "vscode": {
   "interpreter": {
    "hash": "61b2738834c5d57de2b2e4e6f1e3fbfde90ba09dceeea7596bcecc714c6f77ae"
   }
  }
 },
 "nbformat": 4,
 "nbformat_minor": 2
}
